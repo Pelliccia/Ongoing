{
 "cells": [
  {
   "cell_type": "markdown",
   "metadata": {},
   "source": [
    "# Exercises on lists, dictionnaries, functions and arrays\n",
    "\n",
    "To save time, for the following exercise, you can keep the function documentation to their minimum. "
   ]
  },
  {
   "cell_type": "code",
   "execution_count": 2,
   "metadata": {},
   "outputs": [],
   "source": [
    "import numpy as np \n",
    "from matplotlib import pyplot as plt "
   ]
  },
  {
   "cell_type": "markdown",
   "metadata": {},
   "source": [
    "1) Find the smallest element in a list of floats (or integers) without using numpy (you can use a `for loop`. "
   ]
  },
  {
   "cell_type": "code",
   "execution_count": 3,
   "metadata": {},
   "outputs": [
    {
     "name": "stdout",
     "output_type": "stream",
     "text": [
      "-4.0\n"
     ]
    }
   ],
   "source": [
    "l = [1., 3., 5., -4., 8.]\n",
    "\n",
    "smallest = l[0]\n",
    "for i in range(1, len(l), 1):\n",
    "    if l[i] < smallest:\n",
    "        smallest = l[i]\n",
    "\n",
    "print(smallest)"
   ]
  },
  {
   "cell_type": "code",
   "execution_count": 4,
   "metadata": {},
   "outputs": [
    {
     "data": {
      "text/plain": [
       "-4.0"
      ]
     },
     "execution_count": 4,
     "metadata": {},
     "output_type": "execute_result"
    }
   ],
   "source": [
    "# even simpler \n",
    "min(l)"
   ]
  },
  {
   "cell_type": "markdown",
   "metadata": {},
   "source": [
    "2) Write a Python function that takes two lists and returns `True` if they have at least one common member. "
   ]
  },
  {
   "cell_type": "code",
   "execution_count": 5,
   "metadata": {},
   "outputs": [],
   "source": [
    "def compa_list(l1, l2):\n",
    "    '''\n",
    "    Description: Compares 2 lists\n",
    "    \n",
    "    Parameters: l1, l2: lists \n",
    "    \n",
    "    Returns: \n",
    "    True if at least 1 elements is in common\n",
    "    '''\n",
    "    flag = False\n",
    "    for i in range(len(l1)):\n",
    "        for j in range(len(l2)):\n",
    "            if l1[i] == l2[j]:\n",
    "                flag = True\n",
    "    return flag "
   ]
  },
  {
   "cell_type": "code",
   "execution_count": 6,
   "metadata": {},
   "outputs": [
    {
     "data": {
      "text/plain": [
       "False"
      ]
     },
     "execution_count": 6,
     "metadata": {},
     "output_type": "execute_result"
    }
   ],
   "source": [
    "l1 = [1, 2, 'a', 13, 12]\n",
    "l2 = [11 , 121, 4]\n",
    "\n",
    "compa_list(l1, l2)"
   ]
  },
  {
   "cell_type": "code",
   "execution_count": 7,
   "metadata": {},
   "outputs": [
    {
     "data": {
      "text/plain": [
       "True"
      ]
     },
     "execution_count": 7,
     "metadata": {},
     "output_type": "execute_result"
    }
   ],
   "source": [
    "l1 = [1, 2, 'a', 13, 12]\n",
    "l2 = [11 , 121, 4, 13]\n",
    "\n",
    "compa_list(l1, l2)"
   ]
  },
  {
   "cell_type": "markdown",
   "metadata": {},
   "source": [
    "3) Remove even numbers from a list of integers. "
   ]
  },
  {
   "cell_type": "code",
   "execution_count": 10,
   "metadata": {},
   "outputs": [
    {
     "data": {
      "text/plain": [
       "0"
      ]
     },
     "execution_count": 10,
     "metadata": {},
     "output_type": "execute_result"
    }
   ],
   "source": [
    "0 % 2"
   ]
  },
  {
   "cell_type": "code",
   "execution_count": 5,
   "metadata": {},
   "outputs": [
    {
     "data": {
      "text/plain": [
       "[1, 3, 5, 7, 9]"
      ]
     },
     "execution_count": 5,
     "metadata": {},
     "output_type": "execute_result"
    }
   ],
   "source": [
    "L = list(np.arange(0,10))\n",
    "L = [ x for x in L if x%2 != 0 ]\n",
    "L"
   ]
  },
  {
   "cell_type": "code",
   "execution_count": 1,
   "metadata": {},
   "outputs": [
    {
     "data": {
      "text/plain": [
       "[1, 3, 5, 7, 9]"
      ]
     },
     "execution_count": 1,
     "metadata": {},
     "output_type": "execute_result"
    }
   ],
   "source": [
    "# longer version\n",
    "# L = list(np.arange(0,10))  # creating a list by converting a np.array\n",
    "L = list(range(0,10))  # creating a list from range\n",
    "L_no_even = []\n",
    "for l in L:\n",
    "    if l % 2 != 0:\n",
    "        L_no_even.append(l)\n",
    "L_no_even"
   ]
  },
  {
   "cell_type": "markdown",
   "metadata": {},
   "source": [
    "4) Write a command to remove duplicates (i.e. non unique values) from a list "
   ]
  },
  {
   "cell_type": "code",
   "execution_count": 12,
   "metadata": {},
   "outputs": [
    {
     "data": {
      "text/plain": [
       "({1, 2, 3, 4, 10}, set)"
      ]
     },
     "execution_count": 12,
     "metadata": {},
     "output_type": "execute_result"
    }
   ],
   "source": [
    "L = [1, 2, 3, 4, 1, 10,1 , 3, 2]\n",
    "set(L), type(set(L))"
   ]
  },
  {
   "cell_type": "code",
   "execution_count": 15,
   "metadata": {},
   "outputs": [
    {
     "data": {
      "text/plain": [
       "[1, 2, 3, 4, 10]"
      ]
     },
     "execution_count": 15,
     "metadata": {},
     "output_type": "execute_result"
    }
   ],
   "source": [
    "L = [1, 2, 3, 4, 1, 10,1 , 3, 2]\n",
    "L2 = list(set(L))  # This converts the set into a list \n",
    "L_Not_good_list = [set(L)]  # THIS DOES NOT convert your set into a list\n",
    "L2"
   ]
  },
  {
   "cell_type": "markdown",
   "metadata": {},
   "source": [
    "5) Create a list by concatenating a given list of string L1 with whith integers ranging from 1 to n.\n",
    "Sample list : `L1 =  ['fa_', 'fb_']\n",
    "`n = 4`\n",
    "Sample Output : `['fa_1', 'fa_2', 'fa_3', 'fa_4', 'fb_1', 'fb_2', 'fb_3', 'fb_4']`"
   ]
  },
  {
   "cell_type": "code",
   "execution_count": 8,
   "metadata": {},
   "outputs": [
    {
     "data": {
      "text/plain": [
       "['fa_1', 'fa_2', 'fa_3', 'fa_4', 'fb_1', 'fb_2', 'fb_3', 'fb_4']"
      ]
     },
     "execution_count": 8,
     "metadata": {},
     "output_type": "execute_result"
    }
   ],
   "source": [
    "# List comprehansion verion\n",
    "L1 = ['fa_', 'fb_']\n",
    "L2 = [l+str(i) for l in L1 for i in range(1,5)]\n",
    "L2"
   ]
  },
  {
   "cell_type": "code",
   "execution_count": 16,
   "metadata": {},
   "outputs": [
    {
     "data": {
      "text/plain": [
       "['fa_1', 'fa_2', 'fa_3', 'fa_4', 'fb_1', 'fb_2', 'fb_3', 'fb_4']"
      ]
     },
     "execution_count": 16,
     "metadata": {},
     "output_type": "execute_result"
    }
   ],
   "source": [
    "# Long version\n",
    "L1 = ['fa_', 'fb_']\n",
    "L2 = []\n",
    "for l in L1:\n",
    "    for i in range(1,5):\n",
    "        L2.append( l + str(i) )\n",
    "L2"
   ]
  },
  {
   "cell_type": "markdown",
   "metadata": {},
   "source": [
    "6) Find missing and additional values in two lists.     \n",
    "Sample lists: list1 = ['a','b','c','d','e','f'], list2 = ['d','e','f','g','h']    \n",
    "Expected output: \n",
    "```python\n",
    "Missing values in second list:  ['c', 'b', 'a']\n",
    "Additional values in second list:  ['h', 'g']\n",
    "```\n",
    "\n",
    "*TIP:* Search in the help if there is no built-in method associated to `set` that could be helpful . "
   ]
  },
  {
   "cell_type": "code",
   "execution_count": null,
   "metadata": {},
   "outputs": [],
   "source": [
    "set.difference()"
   ]
  },
  {
   "cell_type": "code",
   "execution_count": 18,
   "metadata": {},
   "outputs": [
    {
     "name": "stdout",
     "output_type": "stream",
     "text": [
      "Missing values in second list:  ['c', 'a', 'b']\n",
      "Additional values in second list:  ['h', 'g']\n"
     ]
    }
   ],
   "source": [
    "list1 = ['a','b','c','d','e','f']\n",
    "list2 = ['d','e','f','g','h']\n",
    "print('Missing values in second list: ', list(set(list1).difference(set(list2))))\n",
    "print('Additional values in second list: ', list(set(list2).difference(set(list1))))"
   ]
  },
  {
   "cell_type": "markdown",
   "metadata": {},
   "source": [
    "7) You have a tule `tup = (1, 2, 'a', 3)`. How do you convert this tuple into 4 variables 'v1, v2, v3, v4'"
   ]
  },
  {
   "cell_type": "code",
   "execution_count": 20,
   "metadata": {},
   "outputs": [
    {
     "data": {
      "text/plain": [
       "(1, 2, 'a', 3)"
      ]
     },
     "execution_count": 20,
     "metadata": {},
     "output_type": "execute_result"
    }
   ],
   "source": [
    "tup = (1, 2, 'a', 3)\n",
    "v1, v2, v3, v4 = tup \n",
    "v1, v2, v3, v4 "
   ]
  },
  {
   "cell_type": "code",
   "execution_count": 21,
   "metadata": {},
   "outputs": [],
   "source": [
    "# long way \n",
    "v1 = tup[0]\n",
    "v2 = tup[1] \n",
    "v3 = tup[2]\n",
    "v4 = tup[3]"
   ]
  },
  {
   "cell_type": "markdown",
   "metadata": {},
   "source": [
    "8) Write a function \"convert_temperature()\" that converts degrees celcius into Farenheit and vice-versa. Write your function such that the user enters the temperature (integer value) followed by \"F\" for farenheit and \"C\" for degrees. The conversion between degrees and Farenheit is the following: \n",
    "\n",
    "$$ \n",
    "\\frac{C}{5} = \\frac{(F - 32)}{9}\n",
    "$$\n",
    "\n",
    "Try to use the `input` command such that the user can answer interactively to the following question: \"Input the  temperature you like to convert? (e.g., 45F, 102C etc.) : \" "
   ]
  },
  {
   "cell_type": "code",
   "execution_count": 23,
   "metadata": {},
   "outputs": [
    {
     "name": "stdout",
     "output_type": "stream",
     "text": [
      "Give me a number456\n"
     ]
    }
   ],
   "source": [
    "input_value = input('Give me a number')"
   ]
  },
  {
   "cell_type": "code",
   "execution_count": 24,
   "metadata": {},
   "outputs": [
    {
     "data": {
      "text/plain": [
       "'456'"
      ]
     },
     "execution_count": 24,
     "metadata": {},
     "output_type": "execute_result"
    }
   ],
   "source": [
    "input_value"
   ]
  },
  {
   "cell_type": "code",
   "execution_count": 25,
   "metadata": {},
   "outputs": [],
   "source": [
    "def convert_temperature():\n",
    "    '''\n",
    "    '''\n",
    "    temp = input(\"Input the  temperature you like to convert? (e.g., 45F, 102C etc.) : \")  # Interactive sentence \n",
    "    degree = int(temp[:-1])\n",
    "    unit = temp[-1]\n",
    "\n",
    "    if unit.upper() == \"C\":  # unit.upper() to work with capital and non capital input letter\n",
    "        result = int( (9 * degree) / 5 + 32)\n",
    "        o_unit = \"Fahrenheit\"\n",
    "    elif unit.upper() == \"F\":\n",
    "        result = int( (degree - 32) * 5 / 9)\n",
    "        o_unit = \"Celsius\"\n",
    "    else:\n",
    "        print(\"I could not recognize the convention\")\n",
    "        return\n",
    "    print(\"The temperature in\", o_unit, \"is\", result, \"degrees.\")\n",
    "    return"
   ]
  },
  {
   "cell_type": "code",
   "execution_count": 26,
   "metadata": {},
   "outputs": [
    {
     "name": "stdout",
     "output_type": "stream",
     "text": [
      "Input the  temperature you like to convert? (e.g., 45F, 102C etc.) : 67F\n",
      "The temperature in Celsius is 19 degrees.\n"
     ]
    }
   ],
   "source": [
    "convert_temperature()"
   ]
  },
  {
   "cell_type": "markdown",
   "metadata": {},
   "source": [
    "9) Calculate Fibonacci series between up to the value of your choice. The Fibonacci Sequence is the series of numbers : 0, 1, 1, 2, 3, 5, 8, 13, 21, ... Every next number is found by adding up the two numbers before it. Check that the ratio between a value of the series and the previous one (after 3rd one) converges to the \"gold number\" $\\phi = $ 1.618... "
   ]
  },
  {
   "cell_type": "code",
   "execution_count": 27,
   "metadata": {},
   "outputs": [],
   "source": [
    "x,y=0,1\n",
    "Lx = []\n",
    "Ratio = []\n",
    "while y < 150:\n",
    "#    print(y)\n",
    "    x, y = y, x+y\n",
    "    Lx.append(x)\n",
    "    Ratio.append(y / x)"
   ]
  },
  {
   "cell_type": "code",
   "execution_count": 28,
   "metadata": {},
   "outputs": [
    {
     "data": {
      "text/plain": [
       "[1.0,\n",
       " 2.0,\n",
       " 1.5,\n",
       " 1.6666666666666667,\n",
       " 1.6,\n",
       " 1.625,\n",
       " 1.6153846153846154,\n",
       " 1.619047619047619,\n",
       " 1.6176470588235294,\n",
       " 1.6181818181818182,\n",
       " 1.6179775280898876,\n",
       " 1.6180555555555556]"
      ]
     },
     "execution_count": 28,
     "metadata": {},
     "output_type": "execute_result"
    }
   ],
   "source": [
    "Ratio"
   ]
  },
  {
   "cell_type": "code",
   "execution_count": 18,
   "metadata": {},
   "outputs": [
    {
     "data": {
      "text/plain": [
       "[<matplotlib.lines.Line2D at 0x118e1bdd0>]"
      ]
     },
     "execution_count": 18,
     "metadata": {},
     "output_type": "execute_result"
    },
    {
     "data": {
      "image/png": "[encoded data removed]",
      "text/plain": [
       "<Figure size 432x288 with 1 Axes>"
      ]
     },
     "metadata": {
      "needs_background": "light"
     },
     "output_type": "display_data"
    }
   ],
   "source": [
    "plt.plot(Ratio)"
   ]
  },
  {
   "cell_type": "markdown",
   "metadata": {},
   "source": [
    "10) Write a function to check if a string reprensents an integer or not. (e.g. '12345' is an integer but '123d45' is NOT an integer). "
   ]
  },
  {
   "cell_type": "code",
   "execution_count": 33,
   "metadata": {},
   "outputs": [],
   "source": [
    "def check_string(s):\n",
    "    '''\n",
    "    '''\n",
    "    for j, ss in enumerate(s):\n",
    "        if ss not in '-0123456789':\n",
    "            print('Input is not an integer')\n",
    "            return \n",
    "        if (j != 0) & (ss in '-'):   # in cas of a minus sign that does not correspond to a negative integer\n",
    "            print('Input is not an integer')\n",
    "            return\n",
    "    print('Input is an integer')\n",
    "    return "
   ]
  },
  {
   "cell_type": "code",
   "execution_count": 31,
   "metadata": {},
   "outputs": [
    {
     "name": "stdout",
     "output_type": "stream",
     "text": [
      "j= 0 value= 1\n",
      "j= 1 value= 2\n",
      "j= 2 value= 3\n",
      "j= 3 value= a\n",
      "j= 4 value= 4\n",
      "j= 5 value= 5\n"
     ]
    }
   ],
   "source": [
    "s = '123a45'\n",
    "for j, s in enumerate(s):\n",
    "    print('j=', j , 'value=', s)"
   ]
  },
  {
   "cell_type": "code",
   "execution_count": 34,
   "metadata": {},
   "outputs": [
    {
     "name": "stdout",
     "output_type": "stream",
     "text": [
      "Input is not an integer\n"
     ]
    }
   ],
   "source": [
    "s = '123a45'\n",
    "check_string(s)"
   ]
  },
  {
   "cell_type": "code",
   "execution_count": 21,
   "metadata": {},
   "outputs": [
    {
     "name": "stdout",
     "output_type": "stream",
     "text": [
      "Input is not an integer\n"
     ]
    }
   ],
   "source": [
    "s = '12345-3'\n",
    "check_string(s)"
   ]
  },
  {
   "cell_type": "code",
   "execution_count": 35,
   "metadata": {},
   "outputs": [
    {
     "name": "stdout",
     "output_type": "stream",
     "text": [
      "Input is an integer\n"
     ]
    }
   ],
   "source": [
    "s = '-15673'\n",
    "check_string(s)"
   ]
  },
  {
   "cell_type": "markdown",
   "metadata": {},
   "source": [
    "11) Create a 3x3 numpy array with values ranging from 2 to 10.    \n",
    "Expected output     \n",
    "\n",
    "```\n",
    "array([[ 2,  3,  4],\n",
    "       [ 5,  6,  7],\n",
    "       [ 8,  9, 10]])\n",
    "```"
   ]
  },
  {
   "cell_type": "code",
   "execution_count": 36,
   "metadata": {},
   "outputs": [
    {
     "data": {
      "text/plain": [
       "array([ 2,  3,  4,  5,  6,  7,  8,  9, 10])"
      ]
     },
     "execution_count": 36,
     "metadata": {},
     "output_type": "execute_result"
    }
   ],
   "source": [
    "# 1D array from 2 to 10 \n",
    "np.arange(2, 11)"
   ]
  },
  {
   "cell_type": "code",
   "execution_count": 37,
   "metadata": {},
   "outputs": [
    {
     "data": {
      "text/plain": [
       "array([[ 2,  3,  4],\n",
       "       [ 5,  6,  7],\n",
       "       [ 8,  9, 10]])"
      ]
     },
     "execution_count": 37,
     "metadata": {},
     "output_type": "execute_result"
    }
   ],
   "source": [
    "a = np.arange(2, 11) # a is 1D array\n",
    "a.reshape((3,3))"
   ]
  },
  {
   "cell_type": "code",
   "execution_count": 38,
   "metadata": {},
   "outputs": [
    {
     "data": {
      "text/plain": [
       "array([[ 2,  3,  4],\n",
       "       [ 5,  6,  7],\n",
       "       [ 8,  9, 10]])"
      ]
     },
     "execution_count": 38,
     "metadata": {},
     "output_type": "execute_result"
    }
   ],
   "source": [
    "a_3by3 = np.arange(2,11).reshape((3,3))\n",
    "a_3by3"
   ]
  },
  {
   "cell_type": "markdown",
   "metadata": {},
   "source": [
    "12) Reverse a 1D numpy array (first element becomes last).    \n",
    "\n",
    "```\n",
    "[INPUT] array([40, 41, 42, 43, 44, 45, 46, 47, 48, 49])\n",
    "[OUTPUT] array([49, 48, 47, 46, 45, 44, 43, 42, 41, 40])\n",
    "```"
   ]
  },
  {
   "cell_type": "code",
   "execution_count": 39,
   "metadata": {},
   "outputs": [
    {
     "data": {
      "text/plain": [
       "(array([40, 41, 42, 43, 44, 45, 46, 47, 48, 49]),\n",
       " array([49, 48, 47, 46, 45, 44, 43, 42, 41, 40]))"
      ]
     },
     "execution_count": 39,
     "metadata": {},
     "output_type": "execute_result"
    }
   ],
   "source": [
    "a = np.arange(40,50)\n",
    "a_reverse = a[::-1]\n",
    "a, a_reverse"
   ]
  },
  {
   "cell_type": "code",
   "execution_count": 42,
   "metadata": {},
   "outputs": [
    {
     "data": {
      "text/plain": [
       "array([49, 48, 47, 46, 45, 44, 43, 42, 41, 40])"
      ]
     },
     "execution_count": 42,
     "metadata": {},
     "output_type": "execute_result"
    }
   ],
   "source": [
    "# a more explicit command \n",
    "a[10::-1]"
   ]
  },
  {
   "cell_type": "markdown",
   "metadata": {},
   "source": [
    "13) Write a numpy code to \"add\" a border filled with 0's around an existing 2D array. Take an array of 3x3 filled with ones.    \n",
    "TIP: Search how to use the `numpy.pad()` method. "
   ]
  },
  {
   "cell_type": "code",
   "execution_count": 43,
   "metadata": {},
   "outputs": [
    {
     "data": {
      "text/plain": [
       "array([[1., 1., 1.],\n",
       "       [1., 1., 1.],\n",
       "       [1., 1., 1.]])"
      ]
     },
     "execution_count": 43,
     "metadata": {},
     "output_type": "execute_result"
    }
   ],
   "source": [
    "x = np.zeros((3,3)) + 1\n",
    "x"
   ]
  },
  {
   "cell_type": "code",
   "execution_count": null,
   "metadata": {},
   "outputs": [],
   "source": [
    "np.pad()"
   ]
  },
  {
   "cell_type": "code",
   "execution_count": 44,
   "metadata": {},
   "outputs": [
    {
     "name": "stdout",
     "output_type": "stream",
     "text": [
      "Original array:\n",
      "[[1. 1. 1.]\n",
      " [1. 1. 1.]\n",
      " [1. 1. 1.]]\n",
      "0 on the border and 1 inside in the array\n",
      "[[0. 0. 0. 0. 0.]\n",
      " [0. 1. 1. 1. 0.]\n",
      " [0. 1. 1. 1. 0.]\n",
      " [0. 1. 1. 1. 0.]\n",
      " [0. 0. 0. 0. 0.]]\n"
     ]
    }
   ],
   "source": [
    "x = np.ones((3,3))\n",
    "print(\"Original array:\")\n",
    "print(x)\n",
    "print(\"0 on the border and 1 inside in the array\")\n",
    "x = np.pad(x, pad_width=1, mode='constant', constant_values=0)\n",
    "print(x)"
   ]
  },
  {
   "cell_type": "markdown",
   "metadata": {},
   "source": [
    "14) Concatenate the 3 arrays `a1=[10, 20, 30]`, `a2 = [40, 50, 60]`, `a3=[70, 80, 90]` into a single array `[10 20 30 40 50 60 70 80 90]` (there are at least 2 ways to reach the result with a single command line: try them both). "
   ]
  },
  {
   "cell_type": "code",
   "execution_count": 45,
   "metadata": {},
   "outputs": [
    {
     "name": "stdout",
     "output_type": "stream",
     "text": [
      "Original array:\n",
      "[10 20 30]\n",
      "After append values to the end of the array:\n",
      "[10 20 30 40 50 60 70 80 90]\n"
     ]
    }
   ],
   "source": [
    "a1 = np.array([10, 20, 30])\n",
    "a2 = np.array([40, 50, 60])\n",
    "a3 = np.array([70, 80, 90])\n",
    "print(\"Original array:\")\n",
    "print(a1)\n",
    "a1 = np.append(a1, [a2, a3])\n",
    "print(\"After append values to the end of the array:\")\n",
    "print(a1)"
   ]
  },
  {
   "cell_type": "code",
   "execution_count": 46,
   "metadata": {},
   "outputs": [
    {
     "data": {
      "text/plain": [
       "array([10, 20, 30, 40, 50, 60, 70, 80, 90])"
      ]
     },
     "execution_count": 46,
     "metadata": {},
     "output_type": "execute_result"
    }
   ],
   "source": [
    "# Second method\n",
    "a1 = np.array([10, 20, 30])\n",
    "a2 = np.array([40, 50, 60])\n",
    "a3 = np.array([70, 80, 90])\n",
    "np.concatenate((a1,a2,a3))"
   ]
  },
  {
   "cell_type": "code",
   "execution_count": 47,
   "metadata": {},
   "outputs": [
    {
     "data": {
      "text/plain": [
       "array([[10, 20, 30],\n",
       "       [40, 50, 60],\n",
       "       [70, 80, 90]])"
      ]
     },
     "execution_count": 47,
     "metadata": {},
     "output_type": "execute_result"
    }
   ],
   "source": [
    "# to stack arrays ... \n",
    "np.vstack((a1,a2,a3))"
   ]
  },
  {
   "cell_type": "markdown",
   "metadata": {},
   "source": [
    "15) Sort the following array of shape=(3,2) `[[10, 5, 1], [20, 8, 2], [5, 2, 0]]` along the first axis, last axis and on flattened array. Compare the results. How do you get the indices that would sort your array ? "
   ]
  },
  {
   "cell_type": "code",
   "execution_count": 27,
   "metadata": {},
   "outputs": [
    {
     "data": {
      "text/plain": [
       "array([[10,  5,  1],\n",
       "       [20,  8,  2],\n",
       "       [ 5,  2,  0]])"
      ]
     },
     "execution_count": 27,
     "metadata": {},
     "output_type": "execute_result"
    }
   ],
   "source": [
    "a = np.array([[10, 5, 1], [20, 8, 2], [5, 2, 0]])\n",
    "a"
   ]
  },
  {
   "cell_type": "code",
   "execution_count": 28,
   "metadata": {},
   "outputs": [
    {
     "data": {
      "text/plain": [
       "array([[ 5,  2,  0],\n",
       "       [10,  5,  1],\n",
       "       [20,  8,  2]])"
      ]
     },
     "execution_count": 28,
     "metadata": {},
     "output_type": "execute_result"
    }
   ],
   "source": [
    "np.sort(a, axis=0)"
   ]
  },
  {
   "cell_type": "code",
   "execution_count": 29,
   "metadata": {},
   "outputs": [
    {
     "data": {
      "text/plain": [
       "array([[ 1,  5, 10],\n",
       "       [ 2,  8, 20],\n",
       "       [ 0,  2,  5]])"
      ]
     },
     "execution_count": 29,
     "metadata": {},
     "output_type": "execute_result"
    }
   ],
   "source": [
    "np.sort(a)"
   ]
  },
  {
   "cell_type": "code",
   "execution_count": 30,
   "metadata": {},
   "outputs": [
    {
     "data": {
      "text/plain": [
       "array([ 0,  1,  2,  2,  5,  5,  8, 10, 20])"
      ]
     },
     "execution_count": 30,
     "metadata": {},
     "output_type": "execute_result"
    }
   ],
   "source": [
    "np.sort(a.flatten())"
   ]
  },
  {
   "cell_type": "code",
   "execution_count": 31,
   "metadata": {},
   "outputs": [
    {
     "data": {
      "text/plain": [
       "array([[2, 2, 2],\n",
       "       [0, 0, 0],\n",
       "       [1, 1, 1]])"
      ]
     },
     "execution_count": 31,
     "metadata": {},
     "output_type": "execute_result"
    }
   ],
   "source": [
    "# Indices that would sort the original array (for each columns)\n",
    "qq = np.argsort(a, axis=0)\n",
    "qq"
   ]
  },
  {
   "cell_type": "markdown",
   "metadata": {},
   "source": [
    "16) Using numpy methods/function, compute the mean, standard deviation, and variance of a given 2D array (e.g. of shape (3,4)) along the second axis (i.e. average of the rows).      \n",
    "\n",
    "BONUS: Calculate the variance using the formula of the variance. For an ensemble of points ${x_1, x_2, ..., x_n}$, the variance is given by: \n",
    "$$\n",
    "\\sigma^2 = \\sum_i^n \\frac{(x_i - \\bar{x})^2}{n}, \n",
    "$$\n",
    "where ${\\bar{x}}$ is is the mean of $x_i$"
   ]
  },
  {
   "cell_type": "code",
   "execution_count": 32,
   "metadata": {},
   "outputs": [
    {
     "name": "stdout",
     "output_type": "stream",
     "text": [
      "Original array:\n",
      "[[ 1  2  3  2]\n",
      " [10 20 20 30]\n",
      " [25 30 30 35]]\n",
      "Mean:  [ 2. 20. 30.]\n",
      "std:  [0.70710678 7.07106781 3.53553391]\n",
      "variance:  [ 0.5 50.  12.5]\n",
      "variance:  [ 0.5 50.  12.5]\n"
     ]
    }
   ],
   "source": [
    "x = np.array([[1, 2, 3, 2], [10, 20, 20, 30], [25, 30, 30, 35]])\n",
    "print(\"Original array:\")\n",
    "print(x)\n",
    "r1 = np.mean(x, axis=1)\n",
    "print(\"Mean: \", r1)\n",
    "r1 = np.std(x, axis=1)\n",
    "print(\"std: \", r1)\n",
    "r1= np.var(x, axis=1)\n",
    "# Direct calculation of the variance  \n",
    "r2 = np.mean( (x - np.mean(x, axis=1).reshape(3, -1))**2 , axis=1)   # x needs to be reshaped to have 3 rows and 1 column\n",
    "#assert np.allclose(r1, r2)\n",
    "print(\"variance: \", r1)\n",
    "print(\"variance: \", r2)"
   ]
  },
  {
   "cell_type": "markdown",
   "metadata": {},
   "source": [
    "17) Find which elements in a numpy array are NaN (TIP: for a NaN, a != a). Use the numpy help to find if which numpy methods allow you to find if there are infinite / finite (ignoring Nan, inf) values in an array, and/or find if there are nans. Is there also methods allowing you to calculate the mean, min, max, ... ignoring NaN ?     \n",
    "Examples / test arrays:     \n",
    "```python \n",
    "a = np.array([1, np.nan, 3, -np.inf, -4, np.inf, 19])\n",
    "b = np.array([1, np.nan, 3, -1, -4, 4])\n",
    "```"
   ]
  },
  {
   "cell_type": "code",
   "execution_count": 49,
   "metadata": {},
   "outputs": [
    {
     "data": {
      "text/plain": [
       "array([  1.,  nan,   3., -inf,  -4.,  inf,  19.])"
      ]
     },
     "execution_count": 49,
     "metadata": {},
     "output_type": "execute_result"
    }
   ],
   "source": [
    "a = np.array([1, np.nan, 3, -np.inf, -4, np.inf, 19])\n",
    "b = np.array([1, np.nan, 3, -1, -4, 4])\n",
    "a"
   ]
  },
  {
   "cell_type": "code",
   "execution_count": 50,
   "metadata": {},
   "outputs": [
    {
     "data": {
      "text/plain": [
       "(array([1]),)"
      ]
     },
     "execution_count": 50,
     "metadata": {},
     "output_type": "execute_result"
    }
   ],
   "source": [
    "# Identify nan without using builtin command\n",
    "np.where(a!=a)"
   ]
  },
  {
   "cell_type": "code",
   "execution_count": 51,
   "metadata": {},
   "outputs": [
    {
     "data": {
      "text/plain": [
       "array([False,  True, False, False, False, False, False])"
      ]
     },
     "execution_count": 51,
     "metadata": {},
     "output_type": "execute_result"
    }
   ],
   "source": [
    "np.isnan(a)"
   ]
  },
  {
   "cell_type": "code",
   "execution_count": 52,
   "metadata": {},
   "outputs": [
    {
     "name": "stdout",
     "output_type": "stream",
     "text": [
      "Element 1 is a NaN\n",
      "Elements [3 5]  are a inf\n"
     ]
    }
   ],
   "source": [
    "# np.isnan returns an array of booleans \n",
    "# If I want to know which index, I can built an array with the indices and use the output of isnan() as a mask \n",
    "indices = np.arange(len(a))\n",
    "print('Element %i is a NaN'%(indices[np.isnan(a)]))\n",
    "print('Elements', indices[np.isinf(a)], ' are a inf')"
   ]
  },
  {
   "cell_type": "code",
   "execution_count": 53,
   "metadata": {},
   "outputs": [
    {
     "name": "stdout",
     "output_type": "stream",
     "text": [
      "Elements [0 2 4 6]  are a not inf or nan\n"
     ]
    }
   ],
   "source": [
    "# To know which indices are finite\n",
    "print('Elements', indices[np.isfinite(a)], ' are a not inf or nan')"
   ]
  },
  {
   "cell_type": "code",
   "execution_count": 54,
   "metadata": {},
   "outputs": [
    {
     "name": "stdout",
     "output_type": "stream",
     "text": [
      "mean =  0.6\n",
      "min =  -4.0\n",
      "max =  4.0\n"
     ]
    }
   ],
   "source": [
    "# Calculate the mean, min, max ignoring nan\n",
    "print('mean = ', np.nanmean(b))\n",
    "print('min = ', np.nanmin(b))\n",
    "print('max = ', np.nanmax(b))"
   ]
  },
  {
   "cell_type": "code",
   "execution_count": 55,
   "metadata": {},
   "outputs": [
    {
     "name": "stdout",
     "output_type": "stream",
     "text": [
      "mean =  nan\n"
     ]
    },
    {
     "name": "stderr",
     "output_type": "stream",
     "text": [
      "/Users/Shared/anaconda2/envs/jupyterlab-0_35_3/lib/python3.7/site-packages/numpy/core/fromnumeric.py:83: RuntimeWarning: invalid value encountered in reduce\n",
      "  return ufunc.reduce(obj, axis, dtype, out, **passkwargs)\n"
     ]
    }
   ],
   "source": [
    "# However, if there are inf, the command yields an error message \n",
    "print('mean = ', np.nanmean(a))"
   ]
  },
  {
   "cell_type": "code",
   "execution_count": 56,
   "metadata": {},
   "outputs": [
    {
     "name": "stdout",
     "output_type": "stream",
     "text": [
      "mean of a:  4.75\n",
      "mean of a:  4.75\n"
     ]
    }
   ],
   "source": [
    "# For that case, the best is to use \"np.isfinite\" to exclude inf and nans\n",
    "print('mean of a: ', a[np.isfinite(a)].mean()) \n",
    "# or \n",
    "print('mean of a: ', np.mean(a[np.isfinite(a)])) "
   ]
  },
  {
   "cell_type": "code",
   "execution_count": 57,
   "metadata": {},
   "outputs": [
    {
     "name": "stdout",
     "output_type": "stream",
     "text": [
      "Speed for broadcasting\n",
      "6.06 µs ± 161 ns per loop (mean ± std. dev. of 7 runs, 100000 loops each)\n",
      "Speed for method call\n",
      "6.97 µs ± 164 ns per loop (mean ± std. dev. of 7 runs, 100000 loops each)\n"
     ]
    }
   ],
   "source": [
    "# Broadcasting is a bit faster than calling the method \n",
    "print('Speed for broadcasting')\n",
    "%timeit a[np.isfinite(a)].mean()\n",
    "print('Speed for method call')\n",
    "%timeit np.mean(a[np.isfinite(a)])"
   ]
  },
  {
   "cell_type": "markdown",
   "metadata": {},
   "source": [
    "18) Remove the leading and trailing white spaces from this list of strings: `L = [' I ', ' love', '   white ', ' spaces']` .     \n",
    "Expected output:    \n",
    "`['I', 'love', 'white', 'spaces']`"
   ]
  },
  {
   "cell_type": "code",
   "execution_count": 58,
   "metadata": {},
   "outputs": [
    {
     "data": {
      "text/plain": [
       "'I'"
      ]
     },
     "execution_count": 58,
     "metadata": {},
     "output_type": "execute_result"
    }
   ],
   "source": [
    "' I '.strip()"
   ]
  },
  {
   "cell_type": "code",
   "execution_count": 59,
   "metadata": {},
   "outputs": [
    {
     "data": {
      "text/plain": [
       "['I', 'love', 'white', 'spaces']"
      ]
     },
     "execution_count": 59,
     "metadata": {},
     "output_type": "execute_result"
    }
   ],
   "source": [
    "L = [' I ', ' love', '   white ', ' spaces']\n",
    "L2 = [l.strip() for l in L]\n",
    "L2"
   ]
  },
  {
   "cell_type": "markdown",
   "metadata": {},
   "source": [
    "19) Convert the following string 'model, 1 , 13, 14 \\n' into the following np.array of strings `array(['model', '1', '13', '14'], dtype='<U5')`.  "
   ]
  },
  {
   "cell_type": "code",
   "execution_count": null,
   "metadata": {},
   "outputs": [],
   "source": []
  },
  {
   "cell_type": "code",
   "execution_count": 61,
   "metadata": {},
   "outputs": [
    {
     "name": "stdout",
     "output_type": "stream",
     "text": [
      "s2 before cleaning:  ['model', ' 1 ', ' 13', ' 14 \\n']\n"
     ]
    },
    {
     "data": {
      "text/plain": [
       "['model', '1', '13', '14']"
      ]
     },
     "execution_count": 61,
     "metadata": {},
     "output_type": "execute_result"
    }
   ],
   "source": [
    "s = 'model, 1 , 13, 14 \\n'\n",
    "s2 = s.split(sep=(','))\n",
    "print('s2 before cleaning: ', s2)\n",
    "s2 = [ss.replace('\\n', '').strip() for ss in s2]\n",
    "s2"
   ]
  },
  {
   "cell_type": "code",
   "execution_count": 62,
   "metadata": {},
   "outputs": [
    {
     "data": {
      "text/plain": [
       "array(['model', '1', '13', '14'], dtype='<U5')"
      ]
     },
     "execution_count": 62,
     "metadata": {},
     "output_type": "execute_result"
    }
   ],
   "source": [
    "# Conversion into an array\n",
    "s2_a = np.array(s2)\n",
    "s2_a"
   ]
  },
  {
   "cell_type": "markdown",
   "metadata": {},
   "source": [
    "## Reference\n",
    "\n",
    "Some of the exercises from this notebook are inspired by exercises from https://www.w3resource.com/python-exercises/ .   \n",
    "More training exercises can be found there. Several more training exercises are also available on this github (some include also training to Matplotlib): \n",
    "- [Python_training_exercises.ipynb](Python_training_Exercises.ipynb)\n",
    "- [Python_training_exercises_2.ipynb](Python_training_Exercises_2.ipynb)\n",
    "- [Python_training_exercises_3.ipynb](Python_training_Exercises_3.ipynb)"
   ]
  }
 ],
 "metadata": {
  "kernelspec": {
   "display_name": "Python 3",
   "language": "python",
   "name": "python3"
  },
  "language_info": {
   "codemirror_mode": {
    "name": "ipython",
    "version": 3
   },
   "file_extension": ".py",
   "mimetype": "text/x-python",
   "name": "python",
   "nbconvert_exporter": "python",
   "pygments_lexer": "ipython3",
   "version": "3.7.7"
  }
 },
 "nbformat": 4,
 "nbformat_minor": 4
}
